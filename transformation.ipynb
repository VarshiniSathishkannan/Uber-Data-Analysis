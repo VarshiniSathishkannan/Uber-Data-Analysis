{
 "cells": [
  {
   "cell_type": "code",
   "execution_count": 3,
   "metadata": {},
   "outputs": [],
   "source": [
    "bucket_name = \"uber-data-analytics-raw\"\n",
    "path = f\"gs://{bucket_name}/yellow_tripdata_2009-01.parquet\"\n",
    "\n",
    "df = spark.read.parquet(path)"
   ]
  },
  {
   "cell_type": "code",
   "execution_count": 10,
   "metadata": {},
   "outputs": [
    {
     "name": "stdout",
     "output_type": "stream",
     "text": [
      "+-----------+--------------------+---------------------+---------------+-------------+----------+---------+---------+-----------------+----------+---------+------------+--------+---------+-------+-------+---------+---------+\n",
      "|vendor_name|Trip_Pickup_DateTime|Trip_Dropoff_DateTime|Passenger_Count|Trip_Distance| Start_Lon|Start_Lat|Rate_Code|store_and_forward|   End_Lon|  End_Lat|Payment_Type|Fare_Amt|surcharge|mta_tax|Tip_Amt|Tolls_Amt|Total_Amt|\n",
      "+-----------+--------------------+---------------------+---------------+-------------+----------+---------+---------+-----------------+----------+---------+------------+--------+---------+-------+-------+---------+---------+\n",
      "|        VTS| 2009-01-04 02:52:00|  2009-01-04 03:02:00|              1|         2.63|-73.991957|40.721567|     null|             null|-73.993803|40.695922|        CASH|     8.9|      0.5|   null|    0.0|      0.0|      9.4|\n",
      "|        VTS| 2009-01-04 03:31:00|  2009-01-04 03:38:00|              3|         4.55|-73.982102| 40.73629|     null|             null| -73.95585| 40.76803|      Credit|    12.1|      0.5|   null|    2.0|      0.0|     14.6|\n",
      "+-----------+--------------------+---------------------+---------------+-------------+----------+---------+---------+-----------------+----------+---------+------------+--------+---------+-------+-------+---------+---------+\n",
      "only showing top 2 rows\n",
      "\n"
     ]
    }
   ],
   "source": [
    "df.show(2)"
   ]
  },
  {
   "cell_type": "code",
   "execution_count": 7,
   "metadata": {},
   "outputs": [
    {
     "name": "stdout",
     "output_type": "stream",
     "text": [
      "root\n",
      " |-- vendor_name: string (nullable = true)\n",
      " |-- Trip_Pickup_DateTime: string (nullable = true)\n",
      " |-- Trip_Dropoff_DateTime: string (nullable = true)\n",
      " |-- Passenger_Count: long (nullable = true)\n",
      " |-- Trip_Distance: double (nullable = true)\n",
      " |-- Start_Lon: double (nullable = true)\n",
      " |-- Start_Lat: double (nullable = true)\n",
      " |-- Rate_Code: double (nullable = true)\n",
      " |-- store_and_forward: double (nullable = true)\n",
      " |-- End_Lon: double (nullable = true)\n",
      " |-- End_Lat: double (nullable = true)\n",
      " |-- Payment_Type: string (nullable = true)\n",
      " |-- Fare_Amt: double (nullable = true)\n",
      " |-- surcharge: double (nullable = true)\n",
      " |-- mta_tax: double (nullable = true)\n",
      " |-- Tip_Amt: double (nullable = true)\n",
      " |-- Tolls_Amt: double (nullable = true)\n",
      " |-- Total_Amt: double (nullable = true)\n",
      "\n"
     ]
    }
   ],
   "source": [
    "df.printSchema()"
   ]
  },
  {
   "cell_type": "code",
   "execution_count": 17,
   "metadata": {},
   "outputs": [
    {
     "data": {
      "text/plain": [
       "[datetime.datetime(2009, 1, 31, 23, 59, 59),\n",
       " datetime.datetime(2009, 1, 31, 23, 59, 59)]"
      ]
     },
     "execution_count": 17,
     "metadata": {},
     "output_type": "execute_result"
    }
   ],
   "source": [
    "import datetime\n",
    "\n",
    "s = df.rdd.map(lambda x:datetime.datetime.strptime(x[1],'%Y-%m-%d %H:%M:%S'))\n",
    "s.top(2)"
   ]
  },
  {
   "cell_type": "code",
   "execution_count": 18,
   "metadata": {},
   "outputs": [
    {
     "data": {
      "text/plain": [
       "pyspark.rdd.PipelinedRDD"
      ]
     },
     "execution_count": 18,
     "metadata": {},
     "output_type": "execute_result"
    }
   ],
   "source": [
    "type(s)"
   ]
  },
  {
   "cell_type": "code",
   "execution_count": 96,
   "metadata": {},
   "outputs": [
    {
     "name": "stdout",
     "output_type": "stream",
     "text": [
      "root\n",
      " |-- Trip_Pickup_DateTime: string (nullable = true)\n",
      " |-- Trip_Dropoff_DateTime: string (nullable = true)\n",
      "\n"
     ]
    }
   ],
   "source": [
    "datetime_dim = df[['Trip_Pickup_DateTime','Trip_Dropoff_DateTime']]\n",
    "datetime_dim.printSchema()"
   ]
  },
  {
   "cell_type": "code",
   "execution_count": 97,
   "metadata": {},
   "outputs": [
    {
     "data": {
      "text/plain": [
       "14092413"
      ]
     },
     "execution_count": 97,
     "metadata": {},
     "output_type": "execute_result"
    }
   ],
   "source": [
    "datetime_dim.count()"
   ]
  },
  {
   "cell_type": "code",
   "execution_count": 98,
   "metadata": {},
   "outputs": [
    {
     "data": {
      "text/plain": [
       "8604662"
      ]
     },
     "execution_count": 98,
     "metadata": {},
     "output_type": "execute_result"
    }
   ],
   "source": [
    "datetime_dim = datetime_dim.dropDuplicates()\n",
    "datetime_dim.count()"
   ]
  },
  {
   "cell_type": "code",
   "execution_count": 147,
   "metadata": {},
   "outputs": [
    {
     "data": {
      "text/plain": [
       "8604662"
      ]
     },
     "execution_count": 147,
     "metadata": {},
     "output_type": "execute_result"
    }
   ],
   "source": [
    "from pyspark.sql.functions import monotonically_increasing_id\n",
    "datetime_dim = datetime_dim.withColumn('Datetime_ID',monotonically_increasing_id())\n",
    "# datetime_dim.printSchema()\n",
    "datetime_dim.count()"
   ]
  },
  {
   "cell_type": "code",
   "execution_count": 100,
   "metadata": {},
   "outputs": [],
   "source": [
    "from pyspark.sql.functions import to_timestamp\n",
    "datetime_dim = datetime_dim.withColumn('Trip_Pickup_DateTime',to_timestamp(datetime_dim['Trip_Pickup_DateTime']))\n",
    "datetime_dim = datetime_dim.withColumn('Trip_Dropoff_DateTime',to_timestamp(datetime_dim['Trip_Dropoff_DateTime']))"
   ]
  },
  {
   "cell_type": "code",
   "execution_count": 148,
   "metadata": {},
   "outputs": [
    {
     "name": "stdout",
     "output_type": "stream",
     "text": [
      "root\n",
      " |-- Datetime_ID: long (nullable = false)\n",
      " |-- Trip_Pickup_DateTime: timestamp (nullable = true)\n",
      " |-- Pickup_Hour: integer (nullable = true)\n",
      " |-- Pickup_Day: integer (nullable = true)\n",
      " |-- Pickup_Month: integer (nullable = true)\n",
      " |-- Pickup_Year: integer (nullable = true)\n",
      " |-- Pickup_Weekday: integer (nullable = true)\n",
      " |-- Trip_Dropoff_DateTime: timestamp (nullable = true)\n",
      " |-- Dropoff_Hour: integer (nullable = true)\n",
      " |-- Dropoff_Day: integer (nullable = true)\n",
      " |-- Dropoff_Month: integer (nullable = true)\n",
      " |-- Dropoff_Year: integer (nullable = true)\n",
      " |-- Dropoff_Weekday: integer (nullable = true)\n",
      "\n"
     ]
    }
   ],
   "source": [
    "datetime_dim.printSchema()"
   ]
  },
  {
   "cell_type": "code",
   "execution_count": 102,
   "metadata": {},
   "outputs": [],
   "source": [
    "from pyspark.sql.functions import hour,dayofmonth,year,dayofweek,month\n",
    "datetime_dim = datetime_dim.withColumn('Pickup_Hour',hour(datetime_dim['Trip_Pickup_DateTime']))\n",
    "datetime_dim = datetime_dim.withColumn('Pickup_Day',dayofmonth(datetime_dim['Trip_Pickup_DateTime']))\n",
    "datetime_dim = datetime_dim.withColumn('Pickup_Month',month(datetime_dim['Trip_Pickup_DateTime']))\n",
    "datetime_dim = datetime_dim.withColumn('Pickup_Year',year(datetime_dim['Trip_Pickup_DateTime']))\n",
    "datetime_dim = datetime_dim.withColumn('Pickup_Weekday',dayofweek(datetime_dim['Trip_Pickup_DateTime']))\n",
    "\n",
    "datetime_dim = datetime_dim.withColumn('Dropoff_Hour',hour(datetime_dim['Trip_Dropoff_DateTime']))\n",
    "datetime_dim = datetime_dim.withColumn('Dropoff_Day',dayofmonth(datetime_dim['Trip_Dropoff_DateTime']))\n",
    "datetime_dim = datetime_dim.withColumn('Dropoff_Month',month(datetime_dim['Trip_Dropoff_DateTime']))\n",
    "datetime_dim = datetime_dim.withColumn('Dropoff_Year',year(datetime_dim['Trip_Dropoff_DateTime']))\n",
    "datetime_dim = datetime_dim.withColumn('Dropoff_Weekday',dayofweek(datetime_dim['Trip_Dropoff_DateTime']))"
   ]
  },
  {
   "cell_type": "code",
   "execution_count": 103,
   "metadata": {},
   "outputs": [
    {
     "name": "stdout",
     "output_type": "stream",
     "text": [
      "+--------------------+---------------------+-----------+-----------+----------+------------+-----------+--------------+------------+-----------+-------------+------------+---------------+\n",
      "|Trip_Pickup_DateTime|Trip_Dropoff_DateTime|Datetime_ID|Pickup_Hour|Pickup_Day|Pickup_Month|Pickup_Year|Pickup_Weekday|Dropoff_Hour|Dropoff_Day|Dropoff_Month|Dropoff_Year|Dropoff_Weekday|\n",
      "+--------------------+---------------------+-----------+-----------+----------+------------+-----------+--------------+------------+-----------+-------------+------------+---------------+\n",
      "| 2009-01-01 00:01:00|  2009-01-01 00:08:42|          0|          0|         1|           1|       2009|             5|           0|          1|            1|        2009|              5|\n",
      "| 2009-01-01 00:09:53|  2009-01-01 00:28:46|          1|          0|         1|           1|       2009|             5|           0|          1|            1|        2009|              5|\n",
      "| 2009-01-01 00:13:21|  2009-01-01 00:38:55|          2|          0|         1|           1|       2009|             5|           0|          1|            1|        2009|              5|\n",
      "+--------------------+---------------------+-----------+-----------+----------+------------+-----------+--------------+------------+-----------+-------------+------------+---------------+\n",
      "only showing top 3 rows\n",
      "\n"
     ]
    }
   ],
   "source": [
    "datetime_dim.show(3)"
   ]
  },
  {
   "cell_type": "code",
   "execution_count": 104,
   "metadata": {},
   "outputs": [
    {
     "name": "stdout",
     "output_type": "stream",
     "text": [
      "root\n",
      " |-- Trip_Pickup_DateTime: timestamp (nullable = true)\n",
      " |-- Trip_Dropoff_DateTime: timestamp (nullable = true)\n",
      " |-- Datetime_ID: long (nullable = false)\n",
      " |-- Pickup_Hour: integer (nullable = true)\n",
      " |-- Pickup_Day: integer (nullable = true)\n",
      " |-- Pickup_Month: integer (nullable = true)\n",
      " |-- Pickup_Year: integer (nullable = true)\n",
      " |-- Pickup_Weekday: integer (nullable = true)\n",
      " |-- Dropoff_Hour: integer (nullable = true)\n",
      " |-- Dropoff_Day: integer (nullable = true)\n",
      " |-- Dropoff_Month: integer (nullable = true)\n",
      " |-- Dropoff_Year: integer (nullable = true)\n",
      " |-- Dropoff_Weekday: integer (nullable = true)\n",
      "\n"
     ]
    }
   ],
   "source": [
    "datetime_dim.printSchema()"
   ]
  },
  {
   "cell_type": "code",
   "execution_count": 105,
   "metadata": {},
   "outputs": [],
   "source": [
    "datetime_dim = datetime_dim[['Datetime_ID','Trip_Pickup_DateTime','Pickup_Hour','Pickup_Day','Pickup_Month','Pickup_Year','Pickup_Weekday','Trip_Dropoff_DateTime','Dropoff_Hour','Dropoff_Day','Dropoff_Month','Dropoff_Year','Dropoff_Weekday']]"
   ]
  },
  {
   "cell_type": "code",
   "execution_count": 107,
   "metadata": {},
   "outputs": [
    {
     "name": "stdout",
     "output_type": "stream",
     "text": [
      "root\n",
      " |-- Datetime_ID: long (nullable = false)\n",
      " |-- Trip_Pickup_DateTime: timestamp (nullable = true)\n",
      " |-- Pickup_Hour: integer (nullable = true)\n",
      " |-- Pickup_Day: integer (nullable = true)\n",
      " |-- Pickup_Month: integer (nullable = true)\n",
      " |-- Pickup_Year: integer (nullable = true)\n",
      " |-- Pickup_Weekday: integer (nullable = true)\n",
      " |-- Trip_Dropoff_DateTime: timestamp (nullable = true)\n",
      " |-- Dropoff_Hour: integer (nullable = true)\n",
      " |-- Dropoff_Day: integer (nullable = true)\n",
      " |-- Dropoff_Month: integer (nullable = true)\n",
      " |-- Dropoff_Year: integer (nullable = true)\n",
      " |-- Dropoff_Weekday: integer (nullable = true)\n",
      "\n"
     ]
    }
   ],
   "source": [
    "datetime_dim.printSchema()"
   ]
  },
  {
   "cell_type": "code",
   "execution_count": null,
   "metadata": {},
   "outputs": [
    {
     "name": "stdout",
     "output_type": "stream",
     "text": [
      "+-----------+--------------------+-----------+----------+------------+-----------+--------------+---------------------+------------+-----------+-------------+------------+---------------+\n",
      "|Datetime_ID|Trip_Pickup_DateTime|Pickup_Hour|Pickup_Day|Pickup_Month|Pickup_Year|Pickup_Weekday|Trip_Dropoff_DateTime|Dropoff_Hour|Dropoff_Day|Dropoff_Month|Dropoff_Year|Dropoff_Weekday|\n",
      "+-----------+--------------------+-----------+----------+------------+-----------+--------------+---------------------+------------+-----------+-------------+------------+---------------+\n",
      "|          0| 2009-01-01 00:01:00|          0|         1|           1|       2009|             5|  2009-01-01 00:08:42|           0|          1|            1|        2009|              5|\n",
      "|          1| 2009-01-01 00:09:53|          0|         1|           1|       2009|             5|  2009-01-01 00:28:46|           0|          1|            1|        2009|              5|\n",
      "|          2| 2009-01-01 00:13:21|          0|         1|           1|       2009|             5|  2009-01-01 00:38:55|           0|          1|            1|        2009|              5|\n",
      "|          3| 2009-01-01 00:13:25|          0|         1|           1|       2009|             5|  2009-01-01 00:18:52|           0|          1|            1|        2009|              5|\n",
      "|          4| 2009-01-01 00:16:10|          0|         1|           1|       2009|             5|  2009-01-01 00:40:14|           0|          1|            1|        2009|              5|\n",
      "+-----------+--------------------+-----------+----------+------------+-----------+--------------+---------------------+------------+-----------+-------------+------------+---------------+\n",
      "only showing top 5 rows\n",
      "\n"
     ]
    }
   ],
   "source": [
    "datetime_dim.show(5)"
   ]
  },
  {
   "cell_type": "code",
   "execution_count": 109,
   "metadata": {},
   "outputs": [
    {
     "name": "stdout",
     "output_type": "stream",
     "text": [
      "root\n",
      " |-- Start_Lon: double (nullable = true)\n",
      " |-- Start_Lat: double (nullable = true)\n",
      "\n"
     ]
    }
   ],
   "source": [
    "pickup_location_dim = df[['Start_Lon','Start_Lat']].dropDuplicates()\n",
    "pickup_location_dim.printSchema()"
   ]
  },
  {
   "cell_type": "code",
   "execution_count": 149,
   "metadata": {},
   "outputs": [
    {
     "data": {
      "text/plain": [
       "13297284"
      ]
     },
     "execution_count": 149,
     "metadata": {},
     "output_type": "execute_result"
    }
   ],
   "source": [
    "pickup_location_dim.count()"
   ]
  },
  {
   "cell_type": "code",
   "execution_count": 111,
   "metadata": {},
   "outputs": [
    {
     "name": "stdout",
     "output_type": "stream",
     "text": [
      "root\n",
      " |-- Pickup_Location_ID: long (nullable = false)\n",
      " |-- Start_Lon: double (nullable = true)\n",
      " |-- Start_Lat: double (nullable = true)\n",
      "\n"
     ]
    }
   ],
   "source": [
    "pickup_location_dim = pickup_location_dim.withColumn('Pickup_Location_ID',monotonically_increasing_id())\n",
    "pickup_location_dim = pickup_location_dim[['Pickup_Location_ID','Start_Lon','Start_Lat']]\n",
    "pickup_location_dim.printSchema()"
   ]
  },
  {
   "cell_type": "code",
   "execution_count": 113,
   "metadata": {},
   "outputs": [
    {
     "name": "stdout",
     "output_type": "stream",
     "text": [
      "root\n",
      " |-- Drop_Location_ID: long (nullable = false)\n",
      " |-- End_Lon: double (nullable = true)\n",
      " |-- End_Lat: double (nullable = true)\n",
      "\n"
     ]
    }
   ],
   "source": [
    "drop_location_dim = df[['End_Lon','End_Lat']].dropDuplicates()\n",
    "drop_location_dim = drop_location_dim.withColumn('Drop_Location_ID',monotonically_increasing_id())\n",
    "drop_location_dim = drop_location_dim[['Drop_Location_ID','End_Lon','End_Lat']]\n",
    "drop_location_dim.printSchema()"
   ]
  },
  {
   "cell_type": "code",
   "execution_count": 150,
   "metadata": {},
   "outputs": [
    {
     "data": {
      "text/plain": [
       "13458194"
      ]
     },
     "execution_count": 150,
     "metadata": {},
     "output_type": "execute_result"
    }
   ],
   "source": [
    "drop_location_dim.count()"
   ]
  },
  {
   "cell_type": "code",
   "execution_count": 152,
   "metadata": {},
   "outputs": [
    {
     "name": "stdout",
     "output_type": "stream",
     "text": [
      "root\n",
      " |-- Passenger_Count_ID: long (nullable = false)\n",
      " |-- Passenger_Count: long (nullable = true)\n",
      "\n"
     ]
    }
   ],
   "source": [
    "passenger_count_dim = df[['Passenger_Count']].dropDuplicates()\n",
    "passenger_count_dim = passenger_count_dim.withColumn('Passenger_Count_ID',monotonically_increasing_id())\n",
    "passenger_count_dim = passenger_count_dim[['Passenger_Count_ID','Passenger_Count']]\n",
    "passenger_count_dim.printSchema()"
   ]
  },
  {
   "cell_type": "code",
   "execution_count": 153,
   "metadata": {},
   "outputs": [
    {
     "data": {
      "text/plain": [
       "8"
      ]
     },
     "execution_count": 153,
     "metadata": {},
     "output_type": "execute_result"
    }
   ],
   "source": [
    "passenger_count_dim.count()"
   ]
  },
  {
   "cell_type": "code",
   "execution_count": 116,
   "metadata": {},
   "outputs": [
    {
     "name": "stdout",
     "output_type": "stream",
     "text": [
      "root\n",
      " |-- Trip_Distance_ID: long (nullable = false)\n",
      " |-- Trip_Distance: double (nullable = true)\n",
      "\n"
     ]
    }
   ],
   "source": [
    "trip_distance_dim = df[['Trip_Distance']].dropDuplicates()\n",
    "trip_distance_dim = trip_distance_dim.withColumn('Trip_Distance_ID',monotonically_increasing_id())\n",
    "trip_distance_dim = trip_distance_dim[['Trip_Distance_ID','Trip_Distance']]\n",
    "trip_distance_dim.printSchema()"
   ]
  },
  {
   "cell_type": "code",
   "execution_count": 154,
   "metadata": {},
   "outputs": [
    {
     "data": {
      "text/plain": [
       "5716"
      ]
     },
     "execution_count": 154,
     "metadata": {},
     "output_type": "execute_result"
    }
   ],
   "source": [
    "trip_distance_dim.count()"
   ]
  },
  {
   "cell_type": "code",
   "execution_count": 156,
   "metadata": {},
   "outputs": [],
   "source": [
    "from pyspark.sql import functions as f\n",
    "from pyspark.sql import types as t\n",
    "\n",
    "# rate_code_dict = {\n",
    "#     1:'Standard rate',\n",
    "#     2:'JFK',\n",
    "#     3:'Newark',\n",
    "#     4:'Nassau or Westchester',\n",
    "#     5:'Negotiated fare',\n",
    "#     6:'Group ride'\n",
    "# }\n",
    "\n",
    "# d = sc.broadcast(rate_code_dict)\n",
    "\n",
    "def mapping(x):\n",
    "    rate_code_dict = {\n",
    "    1:'Standard rate',\n",
    "    2:'JFK',\n",
    "    3:'Newark',\n",
    "    4:'Nassau or Westchester',\n",
    "    5:'Negotiated fare',\n",
    "    6:'Group ride'\n",
    "    }\n",
    "    return rate_code_dict.get(x)\n",
    "\n",
    "\n",
    "function = f.udf(lambda x:mapping(x))\n",
    "\n",
    "rate_code_dim = df[['Rate_Code']].dropDuplicates()\n",
    "rate_code_dim = rate_code_dim.withColumn('Rate_Code_ID',monotonically_increasing_id())\n",
    "rate_code_dim = rate_code_dim[['Rate_Code_ID','Rate_Code']]\n",
    "# rate_code_dim = rate_code_dim.withColumn('Rate_Code_Name',function(rate_code_dim['Rate_Code']))\n",
    "# rate_code_dim.printSchema()"
   ]
  },
  {
   "cell_type": "code",
   "execution_count": 159,
   "metadata": {},
   "outputs": [
    {
     "name": "stdout",
     "output_type": "stream",
     "text": [
      "+------------+---------+\n",
      "|Rate_Code_ID|Rate_Code|\n",
      "+------------+---------+\n",
      "|360777252864|     null|\n",
      "+------------+---------+\n",
      "\n"
     ]
    }
   ],
   "source": [
    "rate_code_dim.show()"
   ]
  },
  {
   "cell_type": "code",
   "execution_count": 161,
   "metadata": {},
   "outputs": [
    {
     "name": "stdout",
     "output_type": "stream",
     "text": [
      "+---------+\n",
      "|Rate_Code|\n",
      "+---------+\n",
      "+---------+\n",
      "\n"
     ]
    }
   ],
   "source": [
    "df.select('Rate_Code').filter(\"Rate_code != null\").show()"
   ]
  },
  {
   "cell_type": "code",
   "execution_count": 181,
   "metadata": {},
   "outputs": [
    {
     "name": "stdout",
     "output_type": "stream",
     "text": [
      "+------------+\n",
      "|Payment_Type|\n",
      "+------------+\n",
      "|   No Charge|\n",
      "|        CASH|\n",
      "|      Credit|\n",
      "|        Cash|\n",
      "|     Dispute|\n",
      "|      CREDIT|\n",
      "+------------+\n",
      "\n"
     ]
    }
   ],
   "source": [
    "payment_type_dim = df[['Payment_Type']].dropDuplicates()\n",
    "payment_type_dim.show()"
   ]
  },
  {
   "cell_type": "code",
   "execution_count": 178,
   "metadata": {},
   "outputs": [],
   "source": [
    "from pyspark.sql import functions as f\n",
    "\n",
    "def switch(x):\n",
    "    return x.upper()\n",
    "\n",
    "n = f.udf(lambda x:switch(x))"
   ]
  },
  {
   "cell_type": "code",
   "execution_count": 185,
   "metadata": {},
   "outputs": [
    {
     "name": "stdout",
     "output_type": "stream",
     "text": [
      "+------------+-----------------+\n",
      "|Payment_Type|Payment_Type_Name|\n",
      "+------------+-----------------+\n",
      "|     DISPUTE|          DISPUTE|\n",
      "|   NO CHARGE|        NO CHARGE|\n",
      "|        CASH|             CASH|\n",
      "|      CREDIT|           CREDIT|\n",
      "+------------+-----------------+\n",
      "\n"
     ]
    }
   ],
   "source": [
    "payment_type_dim = payment_type_dim.withColumn('Payment_Type',n(payment_type_dim['Payment_Type']))\n",
    "payment_type_dim = payment_type_dim.withColumn('Payment_Type_Name',payment_type_dim['Payment_Type'])\n",
    "\n",
    "payment_type_dim.show()"
   ]
  },
  {
   "cell_type": "code",
   "execution_count": 184,
   "metadata": {},
   "outputs": [
    {
     "name": "stdout",
     "output_type": "stream",
     "text": [
      "+------------+\n",
      "|Payment_Type|\n",
      "+------------+\n",
      "|     DISPUTE|\n",
      "|   NO CHARGE|\n",
      "|        CASH|\n",
      "|      CREDIT|\n",
      "+------------+\n",
      "\n"
     ]
    }
   ],
   "source": [
    "payment_type_dim = payment_type_dim.dropDuplicates()\n",
    "payment_type_dim.show()"
   ]
  },
  {
   "cell_type": "code",
   "execution_count": 187,
   "metadata": {},
   "outputs": [
    {
     "name": "stdout",
     "output_type": "stream",
     "text": [
      "+------------+-----------------+\n",
      "|Payment_Type|Payment_Type_Name|\n",
      "+------------+-----------------+\n",
      "|           2|          DISPUTE|\n",
      "|           3|        NO CHARGE|\n",
      "|           4|             CASH|\n",
      "|           1|           CREDIT|\n",
      "+------------+-----------------+\n",
      "\n"
     ]
    }
   ],
   "source": [
    "\n",
    "def mapping(x):\n",
    "    payment_types = {\n",
    "    'CREDIT':1,\n",
    "    'DISPUTE':2,\n",
    "    'NO CHARGE':3,\n",
    "    'CASH':4,\n",
    "    'UNKNOWN':5,\n",
    "    'VOIDED TRIP':6\n",
    "    }\n",
    "    return payment_types.get(x)\n",
    "\n",
    "p = f.udf(lambda x: mapping(x))\n",
    "\n",
    "payment_type_dim = payment_type_dim.withColumn('Payment_Type',p(payment_type_dim['Payment_Type_Name']))\n",
    "payment_type_dim.show()\n",
    "    "
   ]
  },
  {
   "cell_type": "code",
   "execution_count": 194,
   "metadata": {},
   "outputs": [
    {
     "name": "stdout",
     "output_type": "stream",
     "text": [
      "+------------+-----------------+---------------+\n",
      "|Payment_Type|Payment_Type_Name|Payment_Type_ID|\n",
      "+------------+-----------------+---------------+\n",
      "|           2|          DISPUTE|   214748364800|\n",
      "|           3|        NO CHARGE|   472446402560|\n",
      "|           4|             CASH|   523986010112|\n",
      "|           1|           CREDIT|  1666447310848|\n",
      "+------------+-----------------+---------------+\n",
      "\n"
     ]
    }
   ],
   "source": [
    "payment_type_dim = payment_type_dim.withColumn('Payment_Type_ID',monotonically_increasing_id())\n",
    "payment_type_dim.show()"
   ]
  },
  {
   "cell_type": "code",
   "execution_count": 192,
   "metadata": {},
   "outputs": [],
   "source": [
    "g = payment_type_dim.rdd.zipWithIndex().toDF()"
   ]
  },
  {
   "cell_type": "code",
   "execution_count": 193,
   "metadata": {},
   "outputs": [
    {
     "name": "stdout",
     "output_type": "stream",
     "text": [
      "+--------------+---+\n",
      "|            _1| _2|\n",
      "+--------------+---+\n",
      "|  [2, DISPUTE]|  0|\n",
      "|[3, NO CHARGE]|  1|\n",
      "|     [4, CASH]|  2|\n",
      "|   [1, CREDIT]|  3|\n",
      "+--------------+---+\n",
      "\n"
     ]
    }
   ],
   "source": [
    "g.show()"
   ]
  },
  {
   "cell_type": "code",
   "execution_count": 204,
   "metadata": {},
   "outputs": [
    {
     "name": "stdout",
     "output_type": "stream",
     "text": [
      "+-----------+-----------------+---------+-------+-------+---------+---------+\n",
      "|Vendor_Name|         Fare_Amt|surcharge|mta_tax|Tip_Amt|Tolls_Amt|Total_Amt|\n",
      "+-----------+-----------------+---------+-------+-------+---------+---------+\n",
      "|        VTS|              8.9|      0.5|   null|    0.0|      0.0|      9.4|\n",
      "|        VTS|             12.1|      0.5|   null|    2.0|      0.0|     14.6|\n",
      "|        VTS|             23.7|      0.0|   null|   4.74|      0.0|    28.44|\n",
      "|        DDS|             14.9|      0.5|   null|   3.05|      0.0|    18.45|\n",
      "|        DDS|              3.7|      0.0|   null|    0.0|      0.0|      3.7|\n",
      "|        DDS|              6.1|      0.5|   null|    0.0|      0.0|      6.6|\n",
      "|        DDS|              5.7|      0.0|   null|    1.0|      0.0|      6.7|\n",
      "|        VTS|              6.1|      0.5|   null|    0.0|      0.0|      6.6|\n",
      "|        CMT|8.699999999999998|      0.0|   null|    1.3|      0.0|     10.0|\n",
      "|        CMT|              5.9|      0.0|   null|    0.0|      0.0|      5.9|\n",
      "|        CMT|              2.9|      0.0|   null|    0.0|      0.0|      2.9|\n",
      "|        CMT|              7.7|      0.0|   null|    0.0|      0.0|      7.7|\n",
      "|        DDS|              7.3|      0.0|   null|    0.0|      0.0|      7.3|\n",
      "|        CMT|              6.7|      0.0|   null|    0.0|      0.0|      6.7|\n",
      "|        CMT|              5.9|      0.0|   null|    0.0|      0.0|      5.9|\n",
      "|        CMT|             13.9|      0.0|   null|    0.0|      0.0|     13.9|\n",
      "|        CMT|              8.5|      0.0|   null|    0.0|      0.0|      8.5|\n",
      "|        CMT|              4.5|      0.0|   null|    1.0|      0.0|      5.5|\n",
      "|        DDS|             13.3|      0.5|   null|   3.45|      0.0|    17.25|\n",
      "|        CMT|              7.3|      0.0|   null|    0.0|      0.0|      7.3|\n",
      "+-----------+-----------------+---------+-------+-------+---------+---------+\n",
      "only showing top 20 rows\n",
      "\n"
     ]
    }
   ],
   "source": [
    "fact_table = df[['Vendor_Name','Fare_Amt','surcharge','mta_tax','Tip_Amt','Tolls_Amt','Total_Amt']]\n",
    "fact_table.show()"
   ]
  },
  {
   "cell_type": "code",
   "execution_count": 205,
   "metadata": {},
   "outputs": [
    {
     "name": "stdout",
     "output_type": "stream",
     "text": [
      "+-----------+-----------------+---------+-------+-------+---------+---------+---------+\n",
      "|Vendor_Name|         Fare_Amt|surcharge|mta_tax|Tip_Amt|Tolls_Amt|Total_Amt|Vendor_ID|\n",
      "+-----------+-----------------+---------+-------+-------+---------+---------+---------+\n",
      "|        VTS|              8.9|      0.5|   null|    0.0|      0.0|      9.4|        2|\n",
      "|        VTS|             12.1|      0.5|   null|    2.0|      0.0|     14.6|        2|\n",
      "|        VTS|             23.7|      0.0|   null|   4.74|      0.0|    28.44|        2|\n",
      "|        DDS|             14.9|      0.5|   null|   3.05|      0.0|    18.45|        3|\n",
      "|        DDS|              3.7|      0.0|   null|    0.0|      0.0|      3.7|        3|\n",
      "|        DDS|              6.1|      0.5|   null|    0.0|      0.0|      6.6|        3|\n",
      "|        DDS|              5.7|      0.0|   null|    1.0|      0.0|      6.7|        3|\n",
      "|        VTS|              6.1|      0.5|   null|    0.0|      0.0|      6.6|        2|\n",
      "|        CMT|8.699999999999998|      0.0|   null|    1.3|      0.0|     10.0|        1|\n",
      "|        CMT|              5.9|      0.0|   null|    0.0|      0.0|      5.9|        1|\n",
      "|        CMT|              2.9|      0.0|   null|    0.0|      0.0|      2.9|        1|\n",
      "|        CMT|              7.7|      0.0|   null|    0.0|      0.0|      7.7|        1|\n",
      "|        DDS|              7.3|      0.0|   null|    0.0|      0.0|      7.3|        3|\n",
      "|        CMT|              6.7|      0.0|   null|    0.0|      0.0|      6.7|        1|\n",
      "|        CMT|              5.9|      0.0|   null|    0.0|      0.0|      5.9|        1|\n",
      "|        CMT|             13.9|      0.0|   null|    0.0|      0.0|     13.9|        1|\n",
      "|        CMT|              8.5|      0.0|   null|    0.0|      0.0|      8.5|        1|\n",
      "|        CMT|              4.5|      0.0|   null|    1.0|      0.0|      5.5|        1|\n",
      "|        DDS|             13.3|      0.5|   null|   3.45|      0.0|    17.25|        3|\n",
      "|        CMT|              7.3|      0.0|   null|    0.0|      0.0|      7.3|        1|\n",
      "+-----------+-----------------+---------+-------+-------+---------+---------+---------+\n",
      "only showing top 20 rows\n",
      "\n"
     ]
    }
   ],
   "source": [
    "def m(x):\n",
    "    vendor = {\n",
    "        'CMT':1,\n",
    "        'VTS':2,\n",
    "        'DDS':3\n",
    "    }\n",
    "    return vendor.get(x)\n",
    "\n",
    "v = f.udf(lambda x:m(x))\n",
    "\n",
    "fact_table = fact_table.withColumn('Vendor_ID',v(fact_table['Vendor_Name']))\n",
    "fact_table.show()"
   ]
  },
  {
   "cell_type": "code",
   "execution_count": 206,
   "metadata": {},
   "outputs": [
    {
     "data": {
      "text/plain": [
       "14092413"
      ]
     },
     "execution_count": 206,
     "metadata": {},
     "output_type": "execute_result"
    }
   ],
   "source": [
    "fact_table.count()"
   ]
  },
  {
   "cell_type": "code",
   "execution_count": 234,
   "metadata": {},
   "outputs": [
    {
     "name": "stdout",
     "output_type": "stream",
     "text": [
      "+-----------+--------------------+---------------------+---------------+------------------+------------------+---------+---------+-----------------+------------------+---------+------------+-----------------+---------+-------+-------+---------+---------+\n",
      "|vendor_name|Trip_Pickup_DateTime|Trip_Dropoff_DateTime|Passenger_Count|     Trip_Distance|         Start_Lon|Start_Lat|Rate_Code|store_and_forward|           End_Lon|  End_Lat|Payment_Type|         Fare_Amt|surcharge|mta_tax|Tip_Amt|Tolls_Amt|Total_Amt|\n",
      "+-----------+--------------------+---------------------+---------------+------------------+------------------+---------+---------+-----------------+------------------+---------+------------+-----------------+---------+-------+-------+---------+---------+\n",
      "|        VTS| 2009-01-04 02:52:00|  2009-01-04 03:02:00|              1|              2.63|        -73.991957|40.721567|     null|             null|        -73.993803|40.695922|        CASH|              8.9|      0.5|   null|    0.0|      0.0|      9.4|\n",
      "|        VTS| 2009-01-04 03:31:00|  2009-01-04 03:38:00|              3|              4.55|        -73.982102| 40.73629|     null|             null|         -73.95585| 40.76803|      CREDIT|             12.1|      0.5|   null|    2.0|      0.0|     14.6|\n",
      "|        VTS| 2009-01-03 15:43:00|  2009-01-03 15:57:00|              5|             10.35|        -74.002587|40.739748|     null|             null|        -73.869983|40.770225|      CREDIT|             23.7|      0.0|   null|   4.74|      0.0|    28.44|\n",
      "|        DDS| 2009-01-01 20:52:58|  2009-01-01 21:14:00|              1|               5.0|        -73.974267|40.790955|     null|             null|-73.99655799999998|40.731849|      CREDIT|             14.9|      0.5|   null|   3.05|      0.0|    18.45|\n",
      "|        DDS| 2009-01-24 16:18:23|  2009-01-24 16:24:56|              1|               0.4|         -74.00158|40.719382|     null|             null|-74.00837799999998| 40.72035|        CASH|              3.7|      0.0|   null|    0.0|      0.0|      3.7|\n",
      "|        DDS| 2009-01-16 22:35:59|  2009-01-16 22:43:35|              2|               1.2|        -73.989806|40.735006|     null|             null|        -73.985021|40.724494|        CASH|              6.1|      0.5|   null|    0.0|      0.0|      6.6|\n",
      "|        DDS| 2009-01-21 08:55:57|  2009-01-21 09:05:42|              1|               0.4|-73.98404999999998|40.743544|     null|             null|         -73.98026|40.748926|      CREDIT|              5.7|      0.0|   null|    1.0|      0.0|      6.7|\n",
      "|        VTS| 2009-01-04 04:31:00|  2009-01-04 04:36:00|              1|              1.72|        -73.992635|40.748362|     null|             null|        -73.995585|40.728307|        CASH|              6.1|      0.5|   null|    0.0|      0.0|      6.6|\n",
      "|        CMT| 2009-01-05 16:29:02|  2009-01-05 16:40:21|              1|               1.6|         -73.96969|40.749244|     null|             null|        -73.990413|40.751082|      CREDIT|8.699999999999998|      0.0|   null|    1.3|      0.0|     10.0|\n",
      "|        CMT| 2009-01-05 18:53:13|  2009-01-05 18:57:45|              1|0.6999999999999998|        -73.955173|40.783044|     null|             null|-73.95859799999998|40.774822|        CASH|              5.9|      0.0|   null|    0.0|      0.0|      5.9|\n",
      "|        CMT| 2009-01-05 08:15:38|  2009-01-05 08:16:44|              1|0.2999999999999999|        -73.986824|40.750893|     null|             null|-73.98411799999998|40.751437|        CASH|              2.9|      0.0|   null|    0.0|      0.0|      2.9|\n",
      "|        CMT| 2009-01-05 06:21:43|  2009-01-05 06:28:41|              1|               2.3|          -74.0061|40.748432|     null|             null|        -73.978437|40.762481|        CASH|              7.7|      0.0|   null|    0.0|      0.0|      7.7|\n",
      "|        DDS| 2009-01-20 13:44:02|  2009-01-20 13:52:43|              2|               2.1|        -73.983339|40.744782|     null|             null|         -73.98116|40.720835|        CASH|              7.3|      0.0|   null|    0.0|      0.0|      7.3|\n",
      "|        CMT| 2009-01-05 16:19:53|  2009-01-05 16:26:48|              2|               1.2|         -73.97351| 40.76028|     null|             null|        -73.962933|40.775119|        CASH|              6.7|      0.0|   null|    0.0|      0.0|      6.7|\n",
      "|        CMT| 2009-01-05 17:22:16|  2009-01-05 17:27:25|              1|               0.8|        -73.984426| 40.75748|     null|             null|-73.98251899999998|40.767165|        CASH|              5.9|      0.0|   null|    0.0|      0.0|      5.9|\n",
      "|        CMT| 2009-01-05 16:02:52|  2009-01-05 16:18:43|              1|               4.5|-73.99106399999998|40.727654|     null|             null|-73.94577099999998| 40.77765|        CASH|             13.9|      0.0|   null|    0.0|      0.0|     13.9|\n",
      "|        CMT| 2009-01-05 12:15:06|  2009-01-05 12:27:58|              1|               1.7|        -74.001678|  40.7473|     null|             null|-73.97895699999998|40.750394|        CASH|              8.5|      0.0|   null|    0.0|      0.0|      8.5|\n",
      "|        CMT| 2009-01-05 07:49:57|  2009-01-05 07:54:11|              1|               1.0|-73.98245699999998|40.731475|     null|             null|        -73.973011|40.743387|      CREDIT|              4.5|      0.0|   null|    1.0|      0.0|      5.5|\n",
      "|        DDS| 2009-01-23 23:57:34|  2009-01-24 00:12:40|              2|               5.0|        -73.992554|40.724476|     null|             null|-73.95306499999998|40.777555|      CREDIT|             13.3|      0.5|   null|   3.45|      0.0|    17.25|\n",
      "|        CMT| 2009-01-05 10:23:13|  2009-01-05 10:33:56|              1|               1.3|        -73.990089|40.759027|     null|             null|        -73.983974|40.746938|        CASH|              7.3|      0.0|   null|    0.0|      0.0|      7.3|\n",
      "+-----------+--------------------+---------------------+---------------+------------------+------------------+---------+---------+-----------------+------------------+---------+------------+-----------------+---------+-------+-------+---------+---------+\n",
      "only showing top 20 rows\n",
      "\n"
     ]
    }
   ],
   "source": [
    "df = df.withColumn('Payment_Type',n(df['Payment_Type']))\n",
    "df.show()"
   ]
  },
  {
   "cell_type": "code",
   "execution_count": 235,
   "metadata": {},
   "outputs": [],
   "source": [
    "dfl = df.join(passenger_count_dim, on = 'Passenger_Count').join(trip_distance_dim,on = 'Trip_Distance').join(datetime_dim,on=['Trip_Pickup_DateTime','Trip_Dropoff_DateTime']).join(pickup_location_dim,on=['Start_Lon','Start_Lat']).join(drop_location_dim,on=['End_Lon','End_Lat']).join(payment_type_dim,df.Payment_Type == payment_type_dim.Payment_Type_Name)"
   ]
  },
  {
   "cell_type": "code",
   "execution_count": 237,
   "metadata": {},
   "outputs": [
    {
     "name": "stdout",
     "output_type": "stream",
     "text": [
      "+-----------+-------------+------------------+----------------+------------------+----------------+---------------+-----------------+---------+-------+-------+---------+-----------------+\n",
      "|Vendor_Name|  Datetime_ID|Pickup_Location_ID|Drop_Location_ID|Passenger_Count_ID|Trip_Distance_ID|Payment_Type_ID|         Fare_Amt|surcharge|mta_tax|Tip_Amt|Tolls_Amt|        Total_Amt|\n",
      "+-----------+-------------+------------------+----------------+------------------+----------------+---------------+-----------------+---------+-------+-------+---------+-----------------+\n",
      "|        CMT| 472446438536|      231928283310|     17179919176|      919123001344|    274877906944|   214748364800|              6.5|      0.0|   null|    0.0|      0.0|              6.5|\n",
      "|        CMT|  17179888002|     1382979478439|     17179878459|      592705486848|   1288490188800|   214748364800|              5.3|      0.0|   null|    0.0|      0.0|              5.3|\n",
      "|        CMT| 833223689205|       68719532223|     17179925459|      919123001344|    481036337154|   214748364800|              9.7|      0.0|   null|    0.0|      0.0|              9.7|\n",
      "|        CMT|1340029808629|      987842507579|     17179899153|     1099511627776|   1314259992576|   214748364800|             10.9|      0.0|   null|    0.0|      0.0|             10.9|\n",
      "|        CMT|  51539608403|     1511828505877|     17179887132|      592705486848|     42949672960|   214748364800|              2.5|      0.0|   null|    0.0|      0.0|              2.5|\n",
      "|        CMT| 652835068954|      429496767725|     17179907747|      592705486848|   1314259992576|   214748364800|             11.7|      0.0|   null|    0.0|      0.0|             11.7|\n",
      "|        CMT| 335007453756|      558345810647|     17179932191|      592705486848|     42949672960|   214748364800|              3.0|      0.0|   null|    0.0|      0.0|              3.0|\n",
      "|        CMT| 695784722238|      420906801560|     17179875751|      592705486848|   1039382085632|   214748364800|              3.7|      0.0|   null|    0.0|      0.0|              3.7|\n",
      "|        CMT| 111669154234|     1176821080937|     17179911723|     1202590842880|    498216206336|   214748364800|8.099999999999998|      0.0|   null|    0.0|      0.0|8.099999999999998|\n",
      "|        CMT|1692217120116|     1297080138272|     17179884184|      592705486848|     42949672960|   214748364800|              5.1|      0.0|   null|    0.0|      0.0|              5.1|\n",
      "|        CMT| 850403536541|     1305670067085|     17179878255|     1099511627776|    498216206336|   214748364800|              5.7|      0.0|   null|    0.0|      0.0|              5.7|\n",
      "|        CMT|1675037246834|      996432451234|     17179908099|      592705486848|    721554505728|   214748364800|              8.9|      0.0|   null|    0.0|      0.0|              8.9|\n",
      "|        CMT| 962072694187|      309237665325|     17179889277|      592705486848|    833223655424|   214748364800|              3.7|      0.0|   null|   0.55|      0.0|             4.25|\n",
      "|        CMT| 266288005785|     1382979504459|     17179904526|      592705486848|    498216206336|   214748364800|              4.5|      0.0|   null|    0.0|      0.0|              4.5|\n",
      "|        CMT|1005022366079|      704374684086|     17179917371|      592705486848|     42949672960|   214748364800|              2.5|      0.0|   null|    0.0|      0.0|              2.5|\n",
      "|        CMT| 927712959468|      738734440513|     17179935411|      592705486848|   1236950581248|   214748364800|              6.1|      0.0|   null|    0.0|      0.0|              6.1|\n",
      "|        CMT| 695784715323|     1666447334800|     17179893420|      592705486848|   1520418422784|   214748364800|              4.1|      0.0|   null|    0.0|      0.0|              4.1|\n",
      "|        CMT| 953482740561|      695784763528|     17179931535|     1202590842880|   1039382085632|   214748364800|              3.3|      0.0|   null|    0.0|      0.0|              3.3|\n",
      "|        CMT| 592705519991|        8589949573|     17179884439|      592705486848|    755914244096|   214748364800|             14.5|      0.0|   null|    0.0|      0.0|             14.5|\n",
      "|        CMT| 927712941086|      927712968262|     17179901654|      592705486848|   1245540515840|   214748364800|              6.9|      0.0|   null|    0.0|      0.0|              6.9|\n",
      "+-----------+-------------+------------------+----------------+------------------+----------------+---------------+-----------------+---------+-------+-------+---------+-----------------+\n",
      "only showing top 20 rows\n",
      "\n"
     ]
    }
   ],
   "source": [
    "fact_table = dfl[['Vendor_Name','Datetime_ID','Pickup_Location_ID','Drop_Location_ID','Passenger_Count_ID','Trip_Distance_ID','Payment_Type_ID','Fare_Amt','surcharge','mta_tax','Tip_Amt','Tolls_Amt','Total_Amt']]\n",
    "fact_table.show()"
   ]
  },
  {
   "cell_type": "code",
   "execution_count": 238,
   "metadata": {},
   "outputs": [
    {
     "data": {
      "text/plain": [
       "14092413"
      ]
     },
     "execution_count": 238,
     "metadata": {},
     "output_type": "execute_result"
    }
   ],
   "source": [
    "fact_table.count()"
   ]
  },
  {
   "cell_type": "code",
   "execution_count": null,
   "metadata": {},
   "outputs": [
    {
     "name": "stdout",
     "output_type": "stream",
     "text": [
      "+-----------+-------------+------------------+----------------+------------------+----------------+---------------+-----------------+---------+-------+-------+---------+-----------------+---------+\n",
      "|Vendor_Name|  Datetime_ID|Pickup_Location_ID|Drop_Location_ID|Passenger_Count_ID|Trip_Distance_ID|Payment_Type_ID|         Fare_Amt|surcharge|mta_tax|Tip_Amt|Tolls_Amt|        Total_Amt|Vendor_ID|\n",
      "+-----------+-------------+------------------+----------------+------------------+----------------+---------------+-----------------+---------+-------+-------+---------+-----------------+---------+\n",
      "|        CMT| 532575980194|      266287975017|            2653|      592705486848|   1546188226573|   214748364800|             36.1|      0.0|   null|    0.0|     15.0|             51.1|        1|\n",
      "|        CMT| 901943170969|      824633782061|           61881|      592705486848|   1245540515840|   214748364800|              6.1|      0.0|   null|    0.0|      0.0|              6.1|        1|\n",
      "|        CMT|1374389570348|     1056561988439|           33946|      592705486848|   1314259992576|   214748364800|              8.9|      0.0|   null|    0.0|      0.0|              8.9|        1|\n",
      "|        CMT| 618475329645|     1271310378620|           59632|      592705486848|    498216206336|   214748364800|              4.5|      0.0|   null|    0.0|      0.0|              4.5|        1|\n",
      "|        CMT|1314260012196|     1460288931577|           65285|      592705486848|   1236950581248|   214748364800|              7.0|      0.0|   null|    0.0|      0.0|              7.0|        1|\n",
      "|        CMT|1529008395984|     1297080153236|           30149|      592705486848|    300647710720|   214748364800|              7.0|      0.0|   null|    0.0|      0.0|              7.0|        1|\n",
      "|        CMT|1382979504605|      970662650105|           41413|      592705486848|    300647710720|   214748364800|              7.9|      0.0|   null|    0.0|      0.0|              7.9|        1|\n",
      "|        CMT|  77309424480|      369367243320|           56307|      592705486848|    498216206336|   214748364800|              5.0|      0.0|   null|    0.0|      0.0|              5.0|        1|\n",
      "|        CMT| 876173349979|      369367249745|           62909|      592705486848|    369367187456|   214748364800|              3.0|      0.0|   null|    0.0|      0.0|              3.0|        1|\n",
      "|        CMT|1297080163869|      687194781156|           13880|      592705486848|    575525617664|   214748364800|              5.9|      0.0|   null|    0.0|      0.0|              5.9|        1|\n",
      "|        CMT|1503238576196|     1047972033760|           13775|     1202590842880|    858993459200|   214748364800|             14.2|      0.0|   null|    0.0|      0.0|             14.2|        1|\n",
      "|        CMT| 764504191618|      446676602718|            3909|      592705486848|    369367187456|   214748364800|              3.0|      0.0|   null|    0.0|      0.0|              3.0|        1|\n",
      "|        CMT|1022202238112|     1606317812109|           43510|      592705486848|    721554505728|   214748364800|8.099999999999998|      0.0|   null|    0.0|      0.0|8.099999999999998|        1|\n",
      "|        CMT| 755914256224|      678604845547|           12982|      592705486848|    498216206336|   214748364800|              5.3|      0.0|   null|    0.0|      0.0|              5.3|        1|\n",
      "|        CMT|1408749299019|       51539614926|            7199|     1099511627776|    498216206336|   214748364800|              5.3|      0.0|   null|    0.0|      0.0|              5.3|        1|\n",
      "|        CMT| 953482773721|     1348619739202|            8258|      592705486848|     42949672960|   214748364800|              3.0|      0.0|   null|    0.0|      0.0|              3.0|        1|\n",
      "|        CMT|1159641209938|      867583407725|           14128|      592705486848|    575525617664|   214748364800|              7.3|      0.0|   null|    0.0|      0.0|              7.3|        1|\n",
      "|        CMT| 154618856928|     1511828535433|           47370|      592705486848|    661424963584|   214748364800|              4.1|      0.0|   null|    0.0|      0.0|              4.1|        1|\n",
      "|        CMT|1657857414361|      231928246478|           12818|      592705486848|     42949672960|   214748364800|              3.0|      0.0|   null|    0.0|      0.0|              3.0|        1|\n",
      "|        CMT|1039382110300|     1022202218273|            1716|      592705486848|   1236950581248|   214748364800|              5.3|      0.0|   null|    0.0|      0.0|              5.3|        1|\n",
      "+-----------+-------------+------------------+----------------+------------------+----------------+---------------+-----------------+---------+-------+-------+---------+-----------------+---------+\n",
      "only showing top 20 rows\n",
      "\n"
     ]
    }
   ],
   "source": [
    "fact_table = fact_table.withColumn('Vendor_ID',v(fact_table['Vendor_Name']))\n",
    "fact_table.show()"
   ]
  }
 ],
 "metadata": {
  "kernelspec": {
   "display_name": "PySpark",
   "language": "python",
   "name": "pyspark"
  },
  "language_info": {
   "codemirror_mode": {
    "name": "ipython",
    "version": 3
   },
   "file_extension": ".py",
   "mimetype": "text/x-python",
   "name": "python",
   "nbconvert_exporter": "python",
   "pygments_lexer": "ipython3",
   "version": "3.7.4"
  }
 },
 "nbformat": 4,
 "nbformat_minor": 4
}
